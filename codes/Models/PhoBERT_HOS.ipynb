{
  "cells": [
    {
      "cell_type": "code",
      "execution_count": null,
      "metadata": {
        "id": "QLEA4KDXOnfM"
      },
      "outputs": [],
      "source": [
        "from sklearn.metrics import f1_score\n",
        "import numpy as np\n",
        "import os\n",
        "from tqdm import tqdm"
      ]
    },
    {
      "cell_type": "code",
      "execution_count": null,
      "metadata": {
        "id": "I3YIeVxjOnfY"
      },
      "outputs": [],
      "source": [
        "import tensorflow as tf\n",
        "\n",
        "tf.keras.backend.clear_session()\n",
        "\n",
        "# clear gpu memory using torch\n",
        "import torch\n",
        "torch.cuda.empty_cache()\n",
        "\n",
        "# clear output\n",
        "from IPython.display import clear_output\n",
        "clear_output()"
      ]
    },
    {
      "cell_type": "code",
      "execution_count": null,
      "metadata": {
        "id": "mNogR5VmOnfb",
        "outputId": "84be720e-9ba3-4dc8-8d9c-ff7cf25ef8e8"
      },
      "outputs": [
        {
          "data": {
            "text/plain": [
              "device(type='cuda')"
            ]
          },
          "execution_count": 3,
          "metadata": {},
          "output_type": "execute_result"
        }
      ],
      "source": [
        "import torch\n",
        "device = torch.device(\"cuda\" if torch.cuda.is_available() else \"cpu\")\n",
        "device"
      ]
    },
    {
      "cell_type": "code",
      "execution_count": null,
      "metadata": {
        "id": "Y4KEsYU9Onff"
      },
      "outputs": [],
      "source": [
        "train_path = (\"data/Sequence_labeling_based_version/Word/train_BIO_Word.csv\")\n",
        "dev_path = (\"data/Sequence_labeling_based_version/Word/dev_BIO_Word.csv\")\n",
        "test_path = (\"data/Span Extraction-based version/test.csv\")"
      ]
    },
    {
      "cell_type": "code",
      "execution_count": null,
      "metadata": {
        "id": "Kxoa7w9yOnfg"
      },
      "outputs": [],
      "source": [
        "from transformers import (\n",
        "    AutoModel, AutoConfig, XLMRobertaModel,\n",
        "    AutoTokenizer, AutoModelForSequenceClassification\n",
        ")\n",
        "\n",
        "input_model = XLMRobertaModel.from_pretrained(\"vinai/phobert-large\")\n",
        "tokenizer = AutoTokenizer.from_pretrained(\"vinai/phobert-large\")\n",
        "input_model.resize_token_embeddings(len(tokenizer))\n",
        "\n",
        "clear_output()"
      ]
    },
    {
      "cell_type": "markdown",
      "metadata": {
        "id": "g3iJR318Onfi"
      },
      "source": [
        "# Data"
      ]
    },
    {
      "cell_type": "code",
      "execution_count": null,
      "metadata": {
        "id": "jgXlU_4zOnfm"
      },
      "outputs": [],
      "source": [
        "import pandas as pd\n",
        "import transformers\n",
        "import torch\n",
        "import torch.nn as nn\n",
        "import pandas as pd\n",
        "\n",
        "#clear output\n",
        "from IPython.display import clear_output\n",
        "clear_output()"
      ]
    },
    {
      "cell_type": "code",
      "execution_count": null,
      "metadata": {
        "id": "cKV2F-EoOnfn"
      },
      "outputs": [],
      "source": [
        "def prepare_data(file_path):\n",
        "    df = pd.read_csv(file_path)\n",
        "\n",
        "    # remove nan\n",
        "    df = df.dropna()\n",
        "    df = df.reset_index(drop=True)\n",
        "\n",
        "    texts = df['text'].tolist()\n",
        "    spans = df['spans'].tolist()\n",
        "\n",
        "    # convert spans to binary representation\n",
        "    binary_spans = []\n",
        "    for span in spans:\n",
        "        binary_span = []\n",
        "        span = span.split(' ')\n",
        "        for s in span:\n",
        "            if s == 'O':\n",
        "                binary_span.append(0)\n",
        "            else:\n",
        "                binary_span.append(1)\n",
        "        binary_spans.append(binary_span)\n",
        "\n",
        "    return texts, binary_spans"
      ]
    },
    {
      "cell_type": "code",
      "execution_count": null,
      "metadata": {
        "id": "e9iHsbPjOnfp"
      },
      "outputs": [],
      "source": [
        "# Dataloader function\n",
        "class TextDataset(torch.utils.data.Dataset):\n",
        "    def __init__(self, texts, spans, tokenizer, max_len):\n",
        "        self.texts = [tokenizer(text,\n",
        "                                padding='max_length',\n",
        "                                max_length = 64, truncation=True,\n",
        "                                return_tensors=\"pt\")for text in texts]\n",
        "        self.spans = []\n",
        "\n",
        "        for span in spans:\n",
        "            if len(span) < max_len:\n",
        "                self.spans.append(span + [0] * (max_len - len(span)))\n",
        "            else:\n",
        "                self.spans.append(span[:max_len])\n",
        "\n",
        "        self.spans = torch.tensor(self.spans)\n",
        "\n",
        "    def __len__(self):\n",
        "        return len(self.spans)\n",
        "\n",
        "    def __getitem__(self, index):\n",
        "        return self.texts[index], self.spans[index]\n",
        "\n",
        "def create_dataloader(texts, spans, batch_size, tokenizer, max_len, shuffle=True):\n",
        "    dataset = TextDataset(texts, spans, tokenizer, max_len)\n",
        "    # return texts\n",
        "    dataloader = torch.utils.data.DataLoader(dataset, batch_size=batch_size, shuffle=shuffle)\n",
        "    return dataloader"
      ]
    },
    {
      "cell_type": "code",
      "execution_count": null,
      "metadata": {
        "id": "w-Qyw31bOnfr"
      },
      "outputs": [],
      "source": [
        "batch_size = 64\n",
        "train_dataloader = create_dataloader(*prepare_data(train_path), batch_size=batch_size, tokenizer = tokenizer, max_len=64)\n",
        "dev_dataloader = create_dataloader(*prepare_data(dev_path), batch_size=batch_size, tokenizer = tokenizer, max_len=64, shuffle=False)\n",
        "test_dataloader = create_dataloader(*prepare_data(test_path), batch_size=batch_size, tokenizer = tokenizer, max_len=64)"
      ]
    },
    {
      "cell_type": "markdown",
      "metadata": {
        "id": "gir9BmSBOnfs"
      },
      "source": [
        "# Create Model"
      ]
    },
    {
      "cell_type": "code",
      "execution_count": null,
      "metadata": {
        "id": "0qk9KM_GOnft"
      },
      "outputs": [],
      "source": [
        "def calculate_f1(preds, y):\n",
        "    max_preds = preds.argmax(dim = 1, keepdim = True) # get the index of the max probability\n",
        "    return f1_score(y.cpu(), max_preds.cpu(), average='macro')"
      ]
    },
    {
      "cell_type": "code",
      "execution_count": null,
      "metadata": {
        "id": "NNxX9SOsOnfu"
      },
      "outputs": [],
      "source": [
        "class MultiTaskModel(nn.Module):\n",
        "    def __init__(self, input_model):\n",
        "        super(MultiTaskModel, self).__init__()\n",
        "        self.bert = input_model\n",
        "        self.span_classifier = nn.Linear(768, 1)\n",
        "        self.dropout = nn.Dropout(0.1)\n",
        "\n",
        "    def forward(self, input_ids, attention_mask):\n",
        "        output = self.bert(input_ids=input_ids, attention_mask=attention_mask, return_dict=False)\n",
        "        last_hidden_state = output[0]\n",
        "        last_hidden_state = self.dropout(last_hidden_state)\n",
        "        span_logits = self.span_classifier(last_hidden_state)\n",
        "\n",
        "        span_logits = span_logits.permute(0, 2, 1)\n",
        "        span_logits = torch.sigmoid(span_logits)\n",
        "        span_logits = span_logits.permute(0, 2, 1)\n",
        "\n",
        "        return  span_logits"
      ]
    },
    {
      "cell_type": "code",
      "execution_count": null,
      "metadata": {
        "id": "pcYtSjDAOnfv"
      },
      "outputs": [],
      "source": [
        "def train(model, train_dataloader, dev_dataloader, criterion_span, optimizer_spans, device, num_epochs):\n",
        "    model.train()\n",
        "    for epoch in range(num_epochs):\n",
        "        total_loss = 0\n",
        "        print('Epoch: ', epoch+1)\n",
        "        for texts, spans in tqdm(train_dataloader):\n",
        "            input_ids = texts['input_ids'].squeeze(1).to(device)\n",
        "            attention_mask = texts['attention_mask'].to(device)\n",
        "            spans = spans.float().to(device)\n",
        "\n",
        "            optimizer_spans.zero_grad()\n",
        "            span_logits = model(input_ids, attention_mask)\n",
        "            loss_span = criterion_span(span_logits.squeeze(), spans)\n",
        "\n",
        "            loss = loss_span\n",
        "            loss.backward()\n",
        "\n",
        "            optimizer_spans.step()\n",
        "            total_loss += loss.item()\n",
        "\n",
        "        # Calculate validation loss and macro F1-score\n",
        "        val_loss = 0\n",
        "        span_preds = []\n",
        "        span_targets = []\n",
        "\n",
        "        for texts, spans in tqdm(dev_dataloader):\n",
        "            input_ids = texts['input_ids'].squeeze(1).to(device)\n",
        "            attention_mask = texts['attention_mask'].to(device)\n",
        "            spans = spans.float().to(device)\n",
        "            with torch.no_grad():\n",
        "                span_logits = model(input_ids, attention_mask)\n",
        "                loss_span = criterion_span(span_logits.squeeze(), spans)\n",
        "\n",
        "                val_loss += loss_span #+ loss_label\n",
        "\n",
        "            # Save the true labels and predicted labels for each sample\n",
        "            span_preds.append(span_logits.squeeze().cpu().numpy().flatten())\n",
        "            span_targets.append(spans.cpu().numpy().flatten())\n",
        "\n",
        "        span_preds = np.concatenate(span_preds)\n",
        "        span_targets = np.concatenate(span_targets)\n",
        "        span_preds = (span_preds > 0.5).astype(int)\n",
        "        span_f1 = f1_score(span_targets, span_preds, average='macro')\n",
        "\n",
        "        print('Training loss: ', total_loss/len(train_dataloader))\n",
        "        print('Validation loss: ', val_loss/len(dev_dataloader))\n",
        "        print('Span F1-score: ', span_f1)\n"
      ]
    },
    {
      "cell_type": "markdown",
      "metadata": {
        "id": "eRB9WDRMOnfw"
      },
      "source": [
        "# Start Training"
      ]
    },
    {
      "cell_type": "code",
      "execution_count": null,
      "metadata": {
        "id": "besag50DOnfx"
      },
      "outputs": [],
      "source": [
        "# import optim\n",
        "import torch.optim as optim\n",
        "\n",
        "# Set the number of epochs and the device to use for training\n",
        "num_epochs = 100\n",
        "device = torch.device(\"cuda\" if torch.cuda.is_available() else \"cpu\")\n",
        "\n",
        "# Create an instance of the multi-task model\n",
        "model = MultiTaskModel(input_model = input_model)\n",
        "model.to(device)\n",
        "\n",
        "criterion_span = nn.BCELoss()\n",
        "\n",
        "# Define the optimizer\n",
        "optimizer_spans = optim.Adam(list(model.parameters()), lr=5e-6, weight_decay=1e-5)\n",
        "\n",
        "train(model = model, train_dataloader = train_dataloader, dev_dataloader = dev_dataloader ,\n",
        "      criterion_span = criterion_span, optimizer_spans = optimizer_spans ,device = device, num_epochs = num_epochs)"
      ]
    },
    {
      "cell_type": "markdown",
      "metadata": {
        "id": "p57pKpsSOnfx"
      },
      "source": [
        "# Load and test"
      ]
    },
    {
      "cell_type": "code",
      "execution_count": null,
      "metadata": {
        "id": "o19ogwVuOnfy"
      },
      "outputs": [],
      "source": [
        "def test(model, test_dataloader, device):\n",
        "    model.eval()\n",
        "    span_preds = []\n",
        "    span_targets = []\n",
        "    for texts, spans in tqdm(test_dataloader):\n",
        "        input_ids = texts['input_ids'].squeeze(1).to(device)\n",
        "        attention_mask = texts['attention_mask'].to(device)\n",
        "        spans = spans.float().to(device)\n",
        "        with torch.no_grad():\n",
        "            span_logits = model(input_ids, attention_mask)\n",
        "\n",
        "        span_preds.append(span_logits.squeeze().cpu().numpy().flatten())\n",
        "        span_targets.append(spans.cpu().numpy().flatten())\n",
        "\n",
        "    span_preds = np.concatenate(span_preds)\n",
        "    span_targets = np.concatenate(span_targets)\n",
        "    span_preds = (span_preds > 0.5).astype(int)\n",
        "    span_f1 = f1_score(span_targets, span_preds, average='macro')\n",
        "\n",
        "    print(\"Span F1 Score: {:.4f}\".format(span_f1))"
      ]
    },
    {
      "cell_type": "code",
      "execution_count": null,
      "metadata": {
        "id": "MXEHG_oMOnfy"
      },
      "outputs": [],
      "source": [
        "# model = MultiTaskModel(input_model = input_model)\n",
        "# model.load_state_dict(torch.load('model.pt'))\n",
        "# model.to(device)\n",
        "\n",
        "# test(model = model, test_dataloader = test_dataloader, device = device)"
      ]
    }
  ],
  "metadata": {
    "kernelspec": {
      "display_name": "phudl",
      "language": "python",
      "name": "python3"
    },
    "language_info": {
      "codemirror_mode": {
        "name": "ipython",
        "version": 3
      },
      "file_extension": ".py",
      "mimetype": "text/x-python",
      "name": "python",
      "nbconvert_exporter": "python",
      "pygments_lexer": "ipython3",
      "version": "3.8.11"
    },
    "orig_nbformat": 4,
    "vscode": {
      "interpreter": {
        "hash": "2ea4058ebff17680e9aef3310abdc85a026daf30b518fcd609e9534b2c19ba1f"
      }
    },
    "colab": {
      "provenance": []
    }
  },
  "nbformat": 4,
  "nbformat_minor": 0
}
